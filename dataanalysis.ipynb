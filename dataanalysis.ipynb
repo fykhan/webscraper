{
 "cells": [
  {
   "cell_type": "code",
   "execution_count": 1,
   "metadata": {},
   "outputs": [
    {
     "name": "stdout",
     "output_type": "stream",
     "text": [
      "Empty DataFrame\n",
      "Columns: [category, image_url, download_time, file_path]\n",
      "Index: []\n"
     ]
    }
   ],
   "source": [
    "import pandas as pd\n",
    "\n",
    "# Load the CSV file into a DataFrame\n",
    "csv_file = \"image_metadata.csv\"\n",
    "df = pd.read_csv(csv_file)\n",
    "\n",
    "# Filter rows where 'image_url' does not contain 'images.unsplash.com'\n",
    "filtered_df = df[~df['image_url'].str.contains('images.unsplash.com', na=False)]\n",
    "\n",
    "# Display the filtered rows\n",
    "print(filtered_df)\n",
    "\n",
    "# Optionally, save the filtered rows to a new CSV file\n",
    "filtered_df.to_csv(\"filtered_image_metadata.csv\", index=False)"
   ]
  }
 ],
 "metadata": {
  "kernelspec": {
   "display_name": "base",
   "language": "python",
   "name": "python3"
  },
  "language_info": {
   "codemirror_mode": {
    "name": "ipython",
    "version": 3
   },
   "file_extension": ".py",
   "mimetype": "text/x-python",
   "name": "python",
   "nbconvert_exporter": "python",
   "pygments_lexer": "ipython3",
   "version": "3.12.4"
  }
 },
 "nbformat": 4,
 "nbformat_minor": 2
}
