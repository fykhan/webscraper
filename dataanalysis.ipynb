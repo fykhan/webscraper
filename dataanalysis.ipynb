{
 "cells": [
  {
   "cell_type": "code",
   "execution_count": null,
   "metadata": {},
   "outputs": [
    {
     "data": {
      "text/plain": [
       "['snowboard',\n",
       " 'tie',\n",
       " 'aeroplane',\n",
       " 'remote',\n",
       " 'frisbee',\n",
       " 'microwave',\n",
       " 'broccoli',\n",
       " 'cat',\n",
       " 'book',\n",
       " 'cell phone',\n",
       " 'oven',\n",
       " 'clock',\n",
       " 'pizza',\n",
       " 'bed',\n",
       " 'sink',\n",
       " 'suitcase',\n",
       " 'hair drier',\n",
       " 'laptop',\n",
       " 'handbag',\n",
       " 'backpack',\n",
       " 'umbrella',\n",
       " 'vase',\n",
       " 'skis',\n",
       " 'chair',\n",
       " 'toilet',\n",
       " 'mouse',\n",
       " 'orange',\n",
       " 'toothbrush',\n",
       " 'donut',\n",
       " 'keyboard',\n",
       " 'scissors',\n",
       " 'toaster',\n",
       " 'sheep',\n",
       " 'sports ball',\n",
       " 'elephant',\n",
       " 'zebra',\n",
       " 'hot dog',\n",
       " 'dog',\n",
       " 'bear',\n",
       " 'carrot',\n",
       " 'sandwich',\n",
       " 'cow',\n",
       " 'giraffe',\n",
       " 'potted plant',\n",
       " 'teddy bear',\n",
       " 'cake',\n",
       " 'refrigerator',\n",
       " 'sofa',\n",
       " 'baseball bat',\n",
       " 'dining table',\n",
       " 'baseball glove',\n",
       " 'kite',\n",
       " 'horse',\n",
       " 'skateboard',\n",
       " 'apple',\n",
       " 'tvmonitor',\n",
       " 'tennis racket',\n",
       " 'bottle',\n",
       " 'surfboard',\n",
       " 'wine glass',\n",
       " 'bowl',\n",
       " 'banana',\n",
       " 'cup',\n",
       " 'spoon',\n",
       " 'fork',\n",
       " 'knife']"
      ]
     },
     "execution_count": 11,
     "metadata": {},
     "output_type": "execute_result"
    }
   ],
   "source": [
    "import pandas as pd\n",
    "\n",
    "# Load the CSV file into a DataFrame\n",
    "csv_file = \"image_metadata.csv\"\n",
    "df = pd.read_csv(csv_file)\n",
    "# Count the occurrences of each category\n",
    "category_counts = df['category'].value_counts()\n",
    "\n",
    "# Sort the categories by count in ascending order and get the top 10\n",
    "category_counts.to_csv(\"category_counts.csv\")\n",
    "\n",
    "categories_less_than_500 = category_counts[category_counts < 500].index.tolist()\n",
    "\n"
   ]
  },
  {
   "cell_type": "code",
   "execution_count": 13,
   "metadata": {},
   "outputs": [
    {
     "name": "stdout",
     "output_type": "stream",
     "text": [
      "Duplicate URLs have been removed, keeping only the first instance.\n"
     ]
    }
   ],
   "source": [
    "import pandas as pd\n",
    "\n",
    "# Load the CSV file into a DataFrame\n",
    "csv_file = \"image_metadata.csv\"\n",
    "df = pd.read_csv(csv_file)\n",
    "\n",
    "# Remove duplicate rows based on the 'url' column, keeping the first occurrence\n",
    "df = df.drop_duplicates(subset='url', keep='first')\n",
    "\n",
    "# Save the updated DataFrame back to the CSV file\n",
    "df.to_csv('csv_file.csv', index=False)\n",
    "\n",
    "print(\"Duplicate URLs have been removed, keeping only the first instance.\")\n",
    "\n",
    "\n"
   ]
  },
  {
   "cell_type": "code",
   "execution_count": 37,
   "metadata": {},
   "outputs": [
    {
     "name": "stdout",
     "output_type": "stream",
     "text": [
      "Updated metadata saved to 'image_metadata.csv'.\n"
     ]
    }
   ],
   "source": [
    "import os\n",
    "import pandas as pd\n",
    "\n",
    "# Load the metadata CSV file into a DataFrame\n",
    "metadata = pd.read_csv('image_metadata.csv')\n",
    "\n",
    "# Filter rows where 'url' contains 'plus.unsplash'\n",
    "rows_to_remove = metadata[metadata['url'].str.contains('plus.unsplash', na=False)]\n",
    "\n",
    "# Remove the corresponding files from the file system\n",
    "for file_path in rows_to_remove['file_path']:\n",
    "    # Extract the base file name (without directory and extension)\n",
    "    base_name = os.path.basename(file_path).split('.')[0]  # Get the hash part of the file name\n",
    "\n",
    "    # Get the directory of the file\n",
    "    directory = os.path.dirname(file_path)\n",
    "\n",
    "    # Find all files in the directory that start with the base name\n",
    "    matching_files = [f for f in os.listdir(directory) if f.startswith(base_name)]\n",
    "\n",
    "    # Delete all matching files\n",
    "    for matching_file in matching_files:\n",
    "        full_path = os.path.join(directory, matching_file)\n",
    "        if os.path.exists(full_path):\n",
    "            os.remove(full_path)\n",
    "            print(f\"Deleted file: {full_path}\")\n",
    "        else:\n",
    "            print(f\"File not found: {full_path}\")\n",
    "\n",
    "# Remove the rows from the DataFrame\n",
    "metadata = metadata[~metadata['url'].str.contains('plus.unsplash', na=False)]\n",
    "\n",
    "# Save the updated DataFrame back to the CSV file\n",
    "metadata.to_csv('image_metadata.csv', index=False)\n",
    "\n",
    "print(\"Updated metadata saved to 'image_metadata.csv'.\")"
   ]
  },
  {
   "cell_type": "code",
   "execution_count": null,
   "metadata": {},
   "outputs": [
    {
     "name": "stdout",
     "output_type": "stream",
     "text": [
      "Updated metadata saved to 'metadata.csv'.\n"
     ]
    }
   ],
   "source": [
    "import pandas as pd\n",
    "\n",
    "# Load the metadata CSV file into a DataFrame\n",
    "metadata_file = 'image_metadata.csv'\n",
    "metadata = pd.read_csv(metadata_file)\n",
    "\n",
    "# Remove the prefix from the 'file_path' column\n",
    "metadata['file_path'] = metadata['file_path'].str.replace(r'^e:\\\\Programming\\\\webscraping\\\\', '', regex=True)\n",
    "\n",
    "# Save the updated DataFrame back to the CSV file\n",
    "metadata.to_csv(metadata_file, index=False)\n",
    "\n",
    "print(\"Updated metadata saved to 'metadata.csv'.\")\n",
    "\n"
   ]
  },
  {
   "cell_type": "code",
   "execution_count": 5,
   "metadata": {},
   "outputs": [],
   "source": [
    "metadata_file = 'image_metadata.csv'\n",
    "\n",
    "\n",
    "df = pd.read_csv(metadata_file)\n",
    "df['downloaded'] = True\n",
    "df\n",
    "df.to_csv('image_links.csv')"
   ]
  }
 ],
 "metadata": {
  "kernelspec": {
   "display_name": "base",
   "language": "python",
   "name": "python3"
  },
  "language_info": {
   "codemirror_mode": {
    "name": "ipython",
    "version": 3
   },
   "file_extension": ".py",
   "mimetype": "text/x-python",
   "name": "python",
   "nbconvert_exporter": "python",
   "pygments_lexer": "ipython3",
   "version": "3.12.4"
  }
 },
 "nbformat": 4,
 "nbformat_minor": 2
}
