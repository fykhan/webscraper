{
 "cells": [
  {
   "cell_type": "code",
   "execution_count": 6,
   "metadata": {},
   "outputs": [],
   "source": [
    "import hashlib, io, requests, pandas as pd\n",
    "from selenium import webdriver\n",
    "from selenium.webdriver import ChromeOptions\n",
    "from bs4 import BeautifulSoup\n",
    "from pathlib import Path\n",
    "from PIL import Image\n",
    "\n",
    "options = ChromeOptions()\n",
    "options.add_argument(\"--headless=new\")\n",
    "driver = webdriver.Chrome(options=options)\n"
   ]
  },
  {
   "cell_type": "code",
   "execution_count": null,
   "metadata": {},
   "outputs": [],
   "source": [
    "driver.get(\"https://www.ebay.com/sch/i.html?_from=R40&_trksid=p2334524.m570.l1313&_nkw=bicycle&_sacat=0&LH_TitleDesc=0&_osacat=0&_odkw=bicycle\")\n",
    "content = driver.page_source\n",
    "soup = BeautifulSoup(content, \"html.parser\")\n",
    "driver.quit()\n"
   ]
  },
  {
   "cell_type": "code",
   "execution_count": 4,
   "metadata": {},
   "outputs": [],
   "source": [
    "def gets_url(classes, location, source):\n",
    "    results = []\n",
    "    for a in soup.findAll(attrs={\"class\": classes}):\n",
    "        name = a.find(location)\n",
    "        if name not in results:\n",
    "            results.append(name.get(source))\n",
    "    return results"
   ]
  },
  {
   "cell_type": "code",
   "execution_count": 5,
   "metadata": {},
   "outputs": [
    {
     "name": "stdout",
     "output_type": "stream",
     "text": [
      "['https://ir.ebaystatic.com/rs/v/fxxj3ttftm5ltcqnto1o4baovyl.png', 'https://ir.ebaystatic.com/rs/v/fxxj3ttftm5ltcqnto1o4baovyl.png', 'https://i.ebayimg.com/images/g/bCoAAOSwD7Nnw6X9/s-l500.webp', 'https://i.ebayimg.com/images/g/MNwAAeSwi0Rn5MD3/s-l500.webp', 'https://i.ebayimg.com/images/g/AyYAAOSwUOJn4m4x/s-l500.webp', 'https://i.ebayimg.com/images/g/ZnAAAeSwRwdn46rh/s-l500.webp', 'https://i.ebayimg.com/images/g/rPIAAeSwdwtn5EsL/s-l500.webp', 'https://i.ebayimg.com/images/g/KGwAAOSwKp5njm-n/s-l500.webp', 'https://i.ebayimg.com/images/g/-WIAAeSwEpdnyc0a/s-l500.webp', 'https://i.ebayimg.com/images/g/7rUAAOSwYSFnw5nj/s-l500.webp', 'https://i.ebayimg.com/images/g/OvgAAOSw961n4vWZ/s-l500.webp', 'https://i.ebayimg.com/images/g/FBoAAeSwOQJn5Ab5/s-l500.webp', 'https://i.ebayimg.com/images/g/vsQAAOSwzXxnbo7s/s-l500.webp', 'https://i.ebayimg.com/images/g/iZ8AAOSwGDFnxKjR/s-l500.webp', 'https://i.ebayimg.com/images/g/3G0AAOSwPIVnR41o/s-l500.webp', 'https://i.ebayimg.com/images/g/5cIAAeSwlcln3COB/s-l500.webp', 'https://i.ebayimg.com/images/g/wMsAAOSwEG5mxiRr/s-l500.webp', 'https://i.ebayimg.com/images/g/BtAAAeSw~Bpn3JHL/s-l500.webp', 'https://i.ebayimg.com/images/g/r-0AAOSwhQNn4w5E/s-l500.webp', 'https://i.ebayimg.com/images/g/DQkAAOSwspBnze01/s-l500.webp', 'https://i.ebayimg.com/images/g/NmMAAOSwIi1ngFIl/s-l500.webp', 'https://i.ebayimg.com/images/g/Zb0AAOSwt8JnWE2k/s-l500.webp', 'https://i.ebayimg.com/images/g/q0gAAeSwE5tnxIl9/s-l500.webp', 'https://i.ebayimg.com/images/g/0NsAAOSwJ8Rn4UkS/s-l500.webp', 'https://i.ebayimg.com/images/g/SQMAAOSwL4ln3RrF/s-l500.webp', 'https://i.ebayimg.com/images/g/7koAAOSwrFhkgo8X/s-l500.webp', 'https://i.ebayimg.com/images/g/YocAAOSwc~xnNfmC/s-l500.webp', 'https://i.ebayimg.com/images/g/fXgAAOSw0zVkeicD/s-l500.webp', 'https://i.ebayimg.com/images/g/gLkAAOSwEcNnxhsp/s-l500.webp', 'https://i.ebayimg.com/images/g/PTIAAeSwC9tn4Ppw/s-l500.webp', 'https://i.ebayimg.com/images/g/3kwAAOSw6~Nnw5fJ/s-l500.webp', 'https://i.ebayimg.com/images/g/jIUAAOSwGR5mMNL7/s-l500.webp', 'https://i.ebayimg.com/images/g/0T0AAOSwYexn4Dvj/s-l500.webp', 'https://i.ebayimg.com/images/g/hGkAAOSwCiNnOkQU/s-l500.webp', 'https://i.ebayimg.com/images/g/YOMAAOSwfKhnvEgD/s-l500.webp', 'https://i.ebayimg.com/images/g/1fYAAOSwFORnF25d/s-l500.webp', 'https://i.ebayimg.com/images/g/1iYAAOSwND1n5BcK/s-l500.webp', 'https://i.ebayimg.com/images/g/T2QAAeSw~ORnueNN/s-l500.webp', 'https://i.ebayimg.com/images/g/j2IAAOSwAWVnZ~42/s-l500.webp', 'https://i.ebayimg.com/images/g/ykQAAeSwRMRn5BYo/s-l500.webp', 'https://i.ebayimg.com/images/g/8oQAAeSwQyBnyGEJ/s-l500.webp', 'https://i.ebayimg.com/images/g/O4sAAOSwvAJn4tKQ/s-l500.webp', 'https://i.ebayimg.com/images/g/TQgAAOSw22lnz0RI/s-l500.webp', 'https://i.ebayimg.com/images/g/IZEAAOSwf6dnGRoo/s-l500.webp', 'https://i.ebayimg.com/images/g/0PoAAOSwBUhn2e2w/s-l500.webp', 'https://i.ebayimg.com/images/g/xZsAAOSwLq9mR8sC/s-l500.webp', 'https://i.ebayimg.com/images/g/8lIAAOSwP-hnw2II/s-l500.webp', 'https://i.ebayimg.com/images/g/qrwAAOSwbsBjklUJ/s-l500.webp', 'https://i.ebayimg.com/images/g/tg0AAOSwwm9mq61g/s-l500.webp', 'https://i.ebayimg.com/images/g/cpIAAeSwo7hn5Dpf/s-l500.webp', 'https://i.ebayimg.com/images/g/2a8AAOSwsl5kgo9i/s-l500.webp', 'https://i.ebayimg.com/images/g/9H0AAOSwGHln41Vm/s-l500.webp', 'https://i.ebayimg.com/images/g/pH4AAOSwoR5neeF5/s-l500.webp', 'https://i.ebayimg.com/images/g/pBwAAeSwD0Zn4-Ko/s-l500.webp', 'https://i.ebayimg.com/images/g/5XcAAOSwrXBn5G0u/s-l500.webp', 'https://i.ebayimg.com/images/g/d5gAAOSwv9Rn1rwN/s-l500.webp', 'https://i.ebayimg.com/images/g/ITUAAeSweutn4J8w/s-l500.webp', 'https://i.ebayimg.com/images/g/q0YAAOSwEYpn3Y5H/s-l500.webp', 'https://i.ebayimg.com/images/g/35YAAOSwORFmhT7O/s-l500.webp', 'https://i.ebayimg.com/images/g/C1cAAOSwyCdnljkz/s-l500.webp', 'https://i.ebayimg.com/images/g/xQYAAOSw0B1n2Zav/s-l500.webp', 'https://i.ebayimg.com/images/g/hMYAAOSwpDpn403-/s-l500.webp']\n"
     ]
    }
   ],
   "source": [
    "returned_results = gets_url(\"s-item__image-wrapper image-treatment\", \"img\", \"src\")\n",
    "print(returned_results)\n",
    "for b in returned_results:\n",
    "    image_content = requests.get(b).content\n",
    "    image_file = io.BytesIO(image_content)\n",
    "    image = Image.open(image_file).convert(\"RGB\")\n",
    "    file_path = Path(\"trial\", hashlib.sha1(image_content).hexdigest()[:10] + \".png\")\n",
    "    image.save(file_path, \"PNG\", quality=80)"
   ]
  },
  {
   "cell_type": "code",
   "execution_count": null,
   "metadata": {},
   "outputs": [],
   "source": [
    "import random\n",
    "# ask user for the photo category\n",
    "imgType = input('Category:')\n",
    "\n",
    "# url to the pexels site\n",
    "url = 'http://pexels.com/search/'\n",
    "\n",
    "# get the response form the site \n",
    "res = requests.get(url + imgType)\n",
    "try:\n",
    "    res.raise_for_status()\n",
    "except Exception as exc:\n",
    "    print('Sorry an error occured:', exc)\n",
    "\n",
    "soup = BeautifulSoup(res.text, 'html.parser')\n",
    "element = soup.select('.js-photo-link img')\n",
    "\n",
    "for i in range(len(element)):\n",
    "    url = element[i].get('src')\n",
    "    name = random.randrange(1, 1000)\n",
    "    file = open(str(name) + imgType + '.jpg', 'wb')\n",
    "    res = requests.get(url)\n",
    "    for chunk in res.iter_content(10000):\n",
    "        file.write(chunk)\n",
    "    file.close()\n",
    "\n",
    "print('done')"
   ]
  },
  {
   "cell_type": "code",
   "execution_count": 9,
   "metadata": {},
   "outputs": [
    {
     "data": {
      "text/plain": [
       "[]"
      ]
     },
     "execution_count": 9,
     "metadata": {},
     "output_type": "execute_result"
    }
   ],
   "source": [
    "from selenium import webdriver\n",
    "from selenium.webdriver.common.by import By\n",
    "import time\n",
    "\n",
    "# Initialize the WebDriver\n",
    "options = webdriver.ChromeOptions()\n",
    "options.add_argument('--headless')\n",
    "driver = webdriver.Chrome(options=options)\n",
    "\n",
    "# Navigate to the Pixabay search results page\n",
    "search_query = 'bicycle'\n",
    "url = f'https://pixabay.com/images/search/{search_query}/'\n",
    "driver.get(url)\n",
    "\n",
    "# Scroll to the bottom to load all images\n",
    "last_height = driver.execute_script(\"return document.body.scrollHeight\")\n",
    "while True:\n",
    "    driver.execute_script(\"window.scrollTo(0, document.body.scrollHeight);\")\n",
    "    time.sleep(2)  # Wait for new images to load\n",
    "    new_height = driver.execute_script(\"return document.body.scrollHeight\")\n",
    "    if new_height == last_height:\n",
    "        break\n",
    "    last_height = new_height\n",
    "\n",
    "# Locate image elements\n",
    "image_elements = driver.find_elements(By.CSS_SELECTOR, 'img')\n",
    "\n",
    "# Extract image URLs\n",
    "image_urls = [img.get_attribute('src') for img in image_elements]\n",
    "\n",
    "# Close the WebDriver\n",
    "driver.quit()\n",
    "\n",
    "image_urls"
   ]
  }
 ],
 "metadata": {
  "kernelspec": {
   "display_name": "base",
   "language": "python",
   "name": "python3"
  },
  "language_info": {
   "codemirror_mode": {
    "name": "ipython",
    "version": 3
   },
   "file_extension": ".py",
   "mimetype": "text/x-python",
   "name": "python",
   "nbconvert_exporter": "python",
   "pygments_lexer": "ipython3",
   "version": "3.12.4"
  }
 },
 "nbformat": 4,
 "nbformat_minor": 2
}
