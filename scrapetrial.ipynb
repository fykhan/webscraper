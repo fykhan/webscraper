{
 "cells": [
  {
   "cell_type": "code",
   "execution_count": 4,
   "metadata": {},
   "outputs": [],
   "source": [
    "import hashlib, io, requests, pandas as pd\n",
    "from selenium import webdriver\n",
    "from selenium.webdriver import ChromeOptions\n",
    "from bs4 import BeautifulSoup\n",
    "from pathlib import Path\n",
    "from PIL import Image\n",
    "\n",
    "options = ChromeOptions()\n",
    "options.add_argument(\"--headless=new\")\n",
    "driver = webdriver.Chrome(options=options)\n"
   ]
  },
  {
   "cell_type": "code",
   "execution_count": 5,
   "metadata": {},
   "outputs": [],
   "source": [
    "driver.get(\"https://www.ebay.com/sch/i.html?_from=R40&_trksid=p2334524.m570.l1313&_nkw=laptop&_sacat=0&LH_TitleDesc=0&_osacat=0&_odkw=laptop\")\n",
    "content = driver.page_source\n",
    "soup = BeautifulSoup(content, \"html.parser\")\n",
    "driver.quit()\n"
   ]
  },
  {
   "cell_type": "code",
   "execution_count": 6,
   "metadata": {},
   "outputs": [],
   "source": [
    "def gets_url(classes, location, source):\n",
    "    results = []\n",
    "    for a in soup.findAll(attrs={\"class\": classes}):\n",
    "        name = a.find(location)\n",
    "        if name not in results:\n",
    "            results.append(name.get(source))\n",
    "    return results"
   ]
  },
  {
   "cell_type": "code",
   "execution_count": 12,
   "metadata": {},
   "outputs": [],
   "source": [
    "returned_results = gets_url(\"s-item__image-wrapper image-treatment\", \"img\", \"src\")\n",
    "for b in returned_results:\n",
    "    image_content = requests.get(b).content\n",
    "    image_file = io.BytesIO(image_content)\n",
    "    image = Image.open(image_file).convert(\"RGB\")\n",
    "    file_path = Path(\"trial\", hashlib.sha1(image_content).hexdigest()[:10] + \".png\")\n",
    "    image.save(file_path, \"PNG\", quality=80)"
   ]
  }
 ],
 "metadata": {
  "kernelspec": {
   "display_name": "base",
   "language": "python",
   "name": "python3"
  },
  "language_info": {
   "codemirror_mode": {
    "name": "ipython",
    "version": 3
   },
   "file_extension": ".py",
   "mimetype": "text/x-python",
   "name": "python",
   "nbconvert_exporter": "python",
   "pygments_lexer": "ipython3",
   "version": "3.12.4"
  }
 },
 "nbformat": 4,
 "nbformat_minor": 2
}
